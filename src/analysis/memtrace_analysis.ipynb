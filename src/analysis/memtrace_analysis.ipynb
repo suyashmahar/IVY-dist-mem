{
 "cells": [
  {
   "cell_type": "code",
   "execution_count": 1,
   "metadata": {},
   "outputs": [],
   "source": [
    "%load_ext autoreload"
   ]
  },
  {
   "cell_type": "code",
   "execution_count": 2,
   "metadata": {},
   "outputs": [],
   "source": [
    "from common import *\n",
    "\n",
    "import pandas as pd\n",
    "import matplotlib.pyplot as plt\n",
    "import os"
   ]
  },
  {
   "cell_type": "code",
   "execution_count": 3,
   "metadata": {},
   "outputs": [],
   "source": [
    "config_common(save_loc=\"figs\")"
   ]
  },
  {
   "cell_type": "code",
   "execution_count": 4,
   "metadata": {},
   "outputs": [],
   "source": [
    "fontsize = 14\n",
    "\n",
    "IP = \"field_ip\"\n",
    "ADDR = \"field_addr\""
   ]
  },
  {
   "cell_type": "code",
   "execution_count": 5,
   "metadata": {},
   "outputs": [],
   "source": [
    "def plot(path: str, count: int):\n",
    "    traces = []\n",
    "    \n",
    "    for i in range(count):\n",
    "        traces.append(path + str(i))\n",
    "    \n",
    "    dfs = []\n",
    "\n",
    "    for trace in traces:\n",
    "        print(\"Reading \" + trace)\n",
    "        dfs.append(pd.read_csv(\n",
    "            trace, \n",
    "            sep = \" \", \n",
    "            names = [IP, ADDR], \n",
    "            converters = {\n",
    "                IP: lambda x: int(x, 16),\n",
    "                ADDR: lambda x: int(x, 16)\n",
    "            }\n",
    "        ))\n",
    "        \n",
    "    fig, ax = plt.subplots(1, 1, sharex='col', sharey='row', figsize=(7, 3))\n",
    "\n",
    "    limited_dfs = []\n",
    "    for trace in range(len(traces)):\n",
    "        limited_dfs.append(dfs[trace][\n",
    "            (dfs[trace][ADDR] > 10**14)\n",
    "            & (dfs[trace][ADDR] <  1.407371 * 10**14)\n",
    "        ])\n",
    "\n",
    "    plot_dict = {}\n",
    "    labels = []\n",
    "    for trace in range(len(traces)):\n",
    "        name = 'Worker ' + str(trace)\n",
    "        labels.append(name)\n",
    "\n",
    "        plot_dict[name] = limited_dfs[trace][ADDR]\n",
    "\n",
    "    plot_df = pd.DataFrame(plot_dict)\n",
    "\n",
    "    zorder = 10\n",
    "    colors=['black', 'gray', 'dimgray','white']\n",
    "    color_iter = 0\n",
    "    for key in plot_dict:\n",
    "        if key != 'Worker 0':\n",
    "            plot_df[key].hist(ax=ax, bins=30, zorder=zorder, alpha=1, color=colors[color_iter], edgecolor='black')\n",
    "            color_iter += 1\n",
    "            zorder += 1\n",
    "\n",
    "    ax.set_ylabel('Total Memory Accesses', fontsize=fontsize)\n",
    "    ax.set_xlabel('Virtual Address', fontsize=fontsize)\n",
    "\n",
    "    ax.legend(labels[1:], fontsize=fontsize)"
   ]
  },
  {
   "cell_type": "code",
   "execution_count": 6,
   "metadata": {},
   "outputs": [
    {
     "name": "stdout",
     "output_type": "stream",
     "text": [
      "Reading traces/pdot/1024_elems/memtrace.out.593229.0\n",
      "Reading traces/pdot/1024_elems/memtrace.out.593229.1\n",
      "Reading traces/pdot/1024_elems/memtrace.out.593229.2\n",
      "Reading traces/pdot/1024_elems/memtrace.out.593229.3\n",
      "Reading traces/pdot/1024_elems/memtrace.out.593229.4\n"
     ]
    },
    {
     "data": {
      "text/markdown": [
       "Plot saved as `figs/pdot_mem_accesses.png`"
      ],
      "text/plain": [
       "<IPython.core.display.Markdown object>"
      ]
     },
     "metadata": {},
     "output_type": "display_data"
    },
    {
     "data": {
      "text/markdown": [
       "Plot saved as `figs/pdot_mem_accesses.png`"
      ],
      "text/plain": [
       "<IPython.core.display.Markdown object>"
      ]
     },
     "metadata": {},
     "output_type": "display_data"
    },
    {
     "data": {
      "text/markdown": [
       "Using pdfcrop on `figs/pdot_mem_accesses.png` with command `pdfcrop figs/pdot_mem_accesses.pdf figs/pdot_mem_accesses.pdf`"
      ],
      "text/plain": [
       "<IPython.core.display.Markdown object>"
      ]
     },
     "metadata": {},
     "output_type": "display_data"
    },
    {
     "data": {
      "image/png": "[encoded data removed]",
      "text/plain": [
       "<Figure size 504x216 with 1 Axes>"
      ]
     },
     "metadata": {
      "needs_background": "light"
     },
     "output_type": "display_data"
    }
   ],
   "source": [
    "plot(\"traces/pdot/1024_elems/memtrace.out.593229.\", 5)\n",
    "savefig(\"pdot_mem_accesses\")"
   ]
  },
  {
   "cell_type": "code",
   "execution_count": 8,
   "metadata": {},
   "outputs": [
    {
     "name": "stdout",
     "output_type": "stream",
     "text": [
      "Reading traces/psort/1024_elems/memtrace.out.603335.0\n",
      "Reading traces/psort/1024_elems/memtrace.out.603335.1\n",
      "Reading traces/psort/1024_elems/memtrace.out.603335.2\n",
      "Reading traces/psort/1024_elems/memtrace.out.603335.3\n",
      "Reading traces/psort/1024_elems/memtrace.out.603335.4\n"
     ]
    },
    {
     "data": {
      "text/markdown": [
       "Plot saved as `figs/psort_mem_accesses.png`"
      ],
      "text/plain": [
       "<IPython.core.display.Markdown object>"
      ]
     },
     "metadata": {},
     "output_type": "display_data"
    },
    {
     "data": {
      "text/markdown": [
       "Plot saved as `figs/psort_mem_accesses.png`"
      ],
      "text/plain": [
       "<IPython.core.display.Markdown object>"
      ]
     },
     "metadata": {},
     "output_type": "display_data"
    },
    {
     "data": {
      "text/markdown": [
       "Using pdfcrop on `figs/psort_mem_accesses.png` with command `pdfcrop figs/psort_mem_accesses.pdf figs/psort_mem_accesses.pdf`"
      ],
      "text/plain": [
       "<IPython.core.display.Markdown object>"
      ]
     },
     "metadata": {},
     "output_type": "display_data"
    },
    {
     "data": {
      "image/png": "[encoded data removed]",
      "text/plain": [
       "<Figure size 504x216 with 1 Axes>"
      ]
     },
     "metadata": {
      "needs_background": "light"
     },
     "output_type": "display_data"
    }
   ],
   "source": [
    "plot(\"traces/psort/1024_elems/memtrace.out.603335.\", 5)\n",
    "savefig(\"psort_mem_accesses\")"
   ]
  },
  {
   "cell_type": "code",
   "execution_count": null,
   "metadata": {},
   "outputs": [],
   "source": []
  }
 ],
 "metadata": {
  "kernelspec": {
   "display_name": "Python 3",
   "language": "python",
   "name": "python3"
  },
  "language_info": {
   "codemirror_mode": {
    "name": "ipython",
    "version": 3
   },
   "file_extension": ".py",
   "mimetype": "text/x-python",
   "name": "python",
   "nbconvert_exporter": "python",
   "pygments_lexer": "ipython3",
   "version": "3.8.3"
  }
 },
 "nbformat": 4,
 "nbformat_minor": 4
}
